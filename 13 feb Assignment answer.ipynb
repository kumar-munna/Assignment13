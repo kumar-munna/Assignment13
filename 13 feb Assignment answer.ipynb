{
 "cells": [
  {
   "cell_type": "code",
   "execution_count": 2,
   "id": "f6abc307-ad15-4090-bde1-9f3ffbcf8158",
   "metadata": {},
   "outputs": [],
   "source": [
    "# Question 1:- Explain why we use the exception class while creating a custom exception."
   ]
  },
  {
   "cell_type": "code",
   "execution_count": 3,
   "id": "a4f5e664-44c4-4c87-a820-be4e50b8943f",
   "metadata": {},
   "outputs": [],
   "source": [
    "# Answer 1:-"
   ]
  },
  {
   "cell_type": "code",
   "execution_count": 4,
   "id": "27b39f8c-515f-4ce9-acae-8ddde270cf89",
   "metadata": {},
   "outputs": [],
   "source": [
    "# Creating custom exception in python can provide several benfits over using standard exception for specific\n",
    "# scenarios. Here are some reasons why we use custom exception:-\n",
    "# 1. Clarity and Readability : Custom exception allow you to provide more desceiptive and meaningful names\n",
    "# for the exception in your code. This enhance the readability of your code and make it easier for \n",
    "# developers to understand what went wrong when an exception is raised.\n",
    "# 2. Hierarchy and Organisation : Hierarchy and organisation help to categorize different types of error\n",
    "# and handle them accordingly.\n",
    "# 3.Maintenance and Extensibility : Custom exception provide a clear way to extend and modify error\n",
    "# handling behavior in the future without affecting the rest of the codebass."
   ]
  },
  {
   "cell_type": "code",
   "execution_count": 5,
   "id": "fcadf2ac-a346-433a-be39-9e7e85f1472a",
   "metadata": {},
   "outputs": [],
   "source": [
    "# Q2. Write a python program to print Python Exception Hierarchy"
   ]
  },
  {
   "cell_type": "code",
   "execution_count": null,
   "id": "af0bf9ce-2082-470d-91fa-190fd9a33b18",
   "metadata": {},
   "outputs": [],
   "source": [
    "# Answer 2:- "
   ]
  },
  {
   "cell_type": "code",
   "execution_count": 1,
   "id": "a584567b-0309-405d-adeb-27cdd97791bf",
   "metadata": {},
   "outputs": [
    {
     "name": "stdout",
     "output_type": "stream",
     "text": [
      "BaseException\n",
      "  Exception\n",
      "    TypeError\n",
      "      FloatOperation\n",
      "      MultipartConversionError\n",
      "    StopAsyncIteration\n",
      "    StopIteration\n",
      "    ImportError\n",
      "      ModuleNotFoundError\n",
      "      ZipImportError\n",
      "    OSError\n",
      "      ConnectionError\n",
      "        BrokenPipeError\n",
      "        ConnectionAbortedError\n",
      "        ConnectionRefusedError\n",
      "        ConnectionResetError\n",
      "          RemoteDisconnected\n",
      "      BlockingIOError\n",
      "      ChildProcessError\n",
      "      FileExistsError\n",
      "      FileNotFoundError\n",
      "      IsADirectoryError\n",
      "      NotADirectoryError\n",
      "      InterruptedError\n",
      "        InterruptedSystemCall\n",
      "      PermissionError\n",
      "      ProcessLookupError\n",
      "      TimeoutError\n",
      "      UnsupportedOperation\n",
      "      itimer_error\n",
      "      herror\n",
      "      gaierror\n",
      "      SSLError\n",
      "        SSLCertVerificationError\n",
      "        SSLZeroReturnError\n",
      "        SSLWantWriteError\n",
      "        SSLWantReadError\n",
      "        SSLSyscallError\n",
      "        SSLEOFError\n",
      "      Error\n",
      "        SameFileError\n",
      "      SpecialFileError\n",
      "      ExecError\n",
      "      ReadError\n",
      "      URLError\n",
      "        HTTPError\n",
      "        ContentTooShortError\n",
      "      BadGzipFile\n",
      "    EOFError\n",
      "      IncompleteReadError\n",
      "    RuntimeError\n",
      "      RecursionError\n",
      "      NotImplementedError\n",
      "        ZMQVersionError\n",
      "        StdinNotImplementedError\n",
      "      _DeadlockError\n",
      "      BrokenBarrierError\n",
      "      BrokenExecutor\n",
      "        BrokenThreadPool\n",
      "      SendfileNotAvailableError\n",
      "      ExtractionError\n",
      "      VariableError\n",
      "    NameError\n",
      "      UnboundLocalError\n",
      "    AttributeError\n",
      "      FrozenInstanceError\n",
      "    SyntaxError\n",
      "      IndentationError\n",
      "        TabError\n",
      "    LookupError\n",
      "      IndexError\n",
      "      KeyError\n",
      "        NoSuchKernel\n",
      "        UnknownBackend\n",
      "      CodecRegistryError\n",
      "    ValueError\n",
      "      UnicodeError\n",
      "        UnicodeEncodeError\n",
      "        UnicodeDecodeError\n",
      "        UnicodeTranslateError\n",
      "      UnsupportedOperation\n",
      "      JSONDecodeError\n",
      "      SSLCertVerificationError\n",
      "      Error\n",
      "      UnsupportedDigestmodError\n",
      "      IllegalMonthError\n",
      "      IllegalWeekdayError\n",
      "      ParserError\n",
      "      ClassNotFound\n",
      "      ClipboardEmpty\n",
      "      MessageDefect\n",
      "        NoBoundaryInMultipartDefect\n",
      "        StartBoundaryNotFoundDefect\n",
      "        CloseBoundaryNotFoundDefect\n",
      "        FirstHeaderLineIsContinuationDefect\n",
      "        MisplacedEnvelopeHeaderDefect\n",
      "        MissingHeaderBodySeparatorDefect\n",
      "        MultipartInvariantViolationDefect\n",
      "        InvalidMultipartContentTransferEncodingDefect\n",
      "        UndecodableBytesDefect\n",
      "        InvalidBase64PaddingDefect\n",
      "        InvalidBase64CharactersDefect\n",
      "        InvalidBase64LengthDefect\n",
      "        HeaderDefect\n",
      "          InvalidHeaderDefect\n",
      "          HeaderMissingRequiredValue\n",
      "          NonPrintableDefect\n",
      "          ObsoleteHeaderDefect\n",
      "          NonASCIILocalPartDefect\n",
      "          InvalidDateDefect\n",
      "      MacroToEdit\n",
      "      InvalidFileException\n",
      "      UnequalIterablesError\n",
      "      InvalidVersion\n",
      "      _InvalidELFFileHeader\n",
      "      InvalidWheelFilename\n",
      "      InvalidSdistFilename\n",
      "      InvalidSpecifier\n",
      "      InvalidMarker\n",
      "      UndefinedComparison\n",
      "      UndefinedEnvironmentName\n",
      "      InvalidRequirement\n",
      "        RequirementParseError\n",
      "      InvalidVersion\n",
      "    AssertionError\n",
      "    ArithmeticError\n",
      "      FloatingPointError\n",
      "      OverflowError\n",
      "      ZeroDivisionError\n",
      "        DivisionByZero\n",
      "        DivisionUndefined\n",
      "      DecimalException\n",
      "        Clamped\n",
      "        Rounded\n",
      "          Underflow\n",
      "          Overflow\n",
      "        Inexact\n",
      "          Underflow\n",
      "          Overflow\n",
      "        Subnormal\n",
      "          Underflow\n",
      "        DivisionByZero\n",
      "        FloatOperation\n",
      "        InvalidOperation\n",
      "          ConversionSyntax\n",
      "          DivisionImpossible\n",
      "          DivisionUndefined\n",
      "          InvalidContext\n",
      "    SystemError\n",
      "      CodecRegistryError\n",
      "    ReferenceError\n",
      "    MemoryError\n",
      "    BufferError\n",
      "    Warning\n",
      "      UserWarning\n",
      "        GetPassWarning\n",
      "        FormatterWarning\n",
      "      EncodingWarning\n",
      "      DeprecationWarning\n",
      "        ProvisionalWarning\n",
      "      PendingDeprecationWarning\n",
      "      SyntaxWarning\n",
      "      RuntimeWarning\n",
      "        ProactorSelectorThreadWarning\n",
      "        UnknownTimezoneWarning\n",
      "        PEP440Warning\n",
      "      FutureWarning\n",
      "        ProvisionalCompleterWarning\n",
      "      ImportWarning\n",
      "      UnicodeWarning\n",
      "      BytesWarning\n",
      "      ResourceWarning\n",
      "      DeprecatedTzFormatWarning\n",
      "      PkgResourcesDeprecationWarning\n",
      "    _OptionError\n",
      "    _Error\n",
      "    error\n",
      "    Verbose\n",
      "    Error\n",
      "    SubprocessError\n",
      "      CalledProcessError\n",
      "      TimeoutExpired\n",
      "    TokenError\n",
      "    StopTokenizing\n",
      "    ClassFoundException\n",
      "    EndOfBlock\n",
      "    TraitError\n",
      "    Error\n",
      "    Error\n",
      "      CancelledError\n",
      "      TimeoutError\n",
      "      InvalidStateError\n",
      "    _GiveupOnSendfile\n",
      "    error\n",
      "    Incomplete\n",
      "    TimeoutError\n",
      "    InvalidStateError\n",
      "    LimitOverrunError\n",
      "    QueueEmpty\n",
      "    QueueFull\n",
      "    Empty\n",
      "    Full\n",
      "    ArgumentError\n",
      "    ZMQBaseError\n",
      "      ZMQError\n",
      "        ContextTerminated\n",
      "        Again\n",
      "        InterruptedSystemCall\n",
      "      ZMQBindError\n",
      "      NotDone\n",
      "    PickleError\n",
      "      PicklingError\n",
      "      UnpicklingError\n",
      "    _Stop\n",
      "    ArgumentError\n",
      "    ArgumentTypeError\n",
      "    ConfigError\n",
      "      ConfigLoaderError\n",
      "        ArgumentError\n",
      "      ConfigFileNotFound\n",
      "    ConfigurableError\n",
      "      MultipleInstanceError\n",
      "    ApplicationError\n",
      "    error\n",
      "    TimeoutError\n",
      "    error\n",
      "    ReturnValueIgnoredError\n",
      "    KeyReuseError\n",
      "    UnknownKeyError\n",
      "    LeakedCallbackError\n",
      "    BadYieldError\n",
      "    ReturnValueIgnoredError\n",
      "    Return\n",
      "    InvalidPortNumber\n",
      "    error\n",
      "    LZMAError\n",
      "    RegistryError\n",
      "    _GiveupOnFastCopy\n",
      "    Error\n",
      "      NoSectionError\n",
      "      DuplicateSectionError\n",
      "      DuplicateOptionError\n",
      "      NoOptionError\n",
      "      InterpolationError\n",
      "        InterpolationMissingOptionError\n",
      "        InterpolationSyntaxError\n",
      "        InterpolationDepthError\n",
      "      ParsingError\n",
      "        MissingSectionHeaderError\n",
      "    NoIPAddresses\n",
      "    BadZipFile\n",
      "    LargeZipFile\n",
      "    BadEntryPoint\n",
      "    NoSuchEntryPoint\n",
      "    DuplicateKernelError\n",
      "    ErrorDuringImport\n",
      "    NotOneValueFound\n",
      "    CannotEval\n",
      "    OptionError\n",
      "    BdbQuit\n",
      "    Restart\n",
      "    ExceptionPexpect\n",
      "      EOF\n",
      "      TIMEOUT\n",
      "    PtyProcessError\n",
      "    FindCmdError\n",
      "    HomeDirError\n",
      "    ProfileDirError\n",
      "    IPythonCoreError\n",
      "      TryNext\n",
      "      UsageError\n",
      "      StdinNotImplementedError\n",
      "    InputRejected\n",
      "    GetoptError\n",
      "    ErrorToken\n",
      "    PrefilterError\n",
      "    AliasError\n",
      "      InvalidAliasError\n",
      "    Error\n",
      "      InterfaceError\n",
      "      DatabaseError\n",
      "        InternalError\n",
      "        OperationalError\n",
      "        ProgrammingError\n",
      "        IntegrityError\n",
      "        DataError\n",
      "        NotSupportedError\n",
      "    Warning\n",
      "    SpaceInInput\n",
      "    DOMException\n",
      "      IndexSizeErr\n",
      "      DomstringSizeErr\n",
      "      HierarchyRequestErr\n",
      "      WrongDocumentErr\n",
      "      InvalidCharacterErr\n",
      "      NoDataAllowedErr\n",
      "      NoModificationAllowedErr\n",
      "      NotFoundErr\n",
      "      NotSupportedErr\n",
      "      InuseAttributeErr\n",
      "      InvalidStateErr\n",
      "      SyntaxErr\n",
      "      InvalidModificationErr\n",
      "      NamespaceErr\n",
      "      InvalidAccessErr\n",
      "      ValidationErr\n",
      "    ValidationError\n",
      "    EditReadOnlyBuffer\n",
      "    _Retry\n",
      "    InvalidLayoutError\n",
      "    HeightIsUnknownError\n",
      "    ParserSyntaxError\n",
      "    InternalParseError\n",
      "    _PositionUpdatingFinished\n",
      "    SimpleGetItemNotFound\n",
      "    UncaughtAttributeError\n",
      "    HasNoContext\n",
      "    ParamIssue\n",
      "    _JediError\n",
      "      InternalError\n",
      "      WrongVersion\n",
      "      RefactoringError\n",
      "    OnErrorLeaf\n",
      "    InvalidPythonEnvironment\n",
      "    MessageError\n",
      "      MessageParseError\n",
      "        HeaderParseError\n",
      "        BoundaryError\n",
      "      MultipartConversionError\n",
      "      CharsetError\n",
      "    Error\n",
      "    HTTPException\n",
      "      NotConnected\n",
      "      InvalidURL\n",
      "      UnknownProtocol\n",
      "      UnknownTransferEncoding\n",
      "      UnimplementedFileMode\n",
      "      IncompleteRead\n",
      "      ImproperConnectionState\n",
      "        CannotSendRequest\n",
      "        CannotSendHeader\n",
      "        ResponseNotReady\n",
      "      BadStatusLine\n",
      "        RemoteDisconnected\n",
      "      LineTooLong\n",
      "    InteractivelyDefined\n",
      "    KillEmbedded\n",
      "    Error\n",
      "      NoSuchProcess\n",
      "        ZombieProcess\n",
      "      AccessDenied\n",
      "      TimeoutExpired\n",
      "    _Ipv6UnsupportedError\n",
      "    QueueEmpty\n",
      "    QueueFull\n",
      "    DebuggerInitializationError\n",
      "    ExpatError\n",
      "    Error\n",
      "      ProtocolError\n",
      "      ResponseError\n",
      "      Fault\n",
      "    ParseBaseException\n",
      "      ParseException\n",
      "      ParseFatalException\n",
      "        ParseSyntaxException\n",
      "    RecursiveGrammarException\n",
      "    ResolutionError\n",
      "      VersionConflict\n",
      "        ContextualVersionConflict\n",
      "      DistributionNotFound\n",
      "      UnknownExtra\n",
      "    _Error\n",
      "    UnableToResolveVariableException\n",
      "    InvalidTypeInArgsException\n",
      "  GeneratorExit\n",
      "  SystemExit\n",
      "  KeyboardInterrupt\n",
      "  CancelledError\n",
      "  AbortThread\n"
     ]
    }
   ],
   "source": [
    "def Exception_hierarchy(exception_class, indent=0):\n",
    "    print(' ' * indent +exception_class.__name__)\n",
    "    for i in exception_class.__subclasses__():\n",
    "        Exception_hierarchy(i,indent+2)\n",
    "Exception_hierarchy(BaseException)"
   ]
  },
  {
   "cell_type": "code",
   "execution_count": 2,
   "id": "9287ffd2-c559-4f80-9a4f-0292406cfb5a",
   "metadata": {},
   "outputs": [],
   "source": [
    "# Q3. What errors are defined in the ArithmeticError class? Explain any two with an example"
   ]
  },
  {
   "cell_type": "code",
   "execution_count": null,
   "id": "19cf3dba-f257-4512-8256-f6fada93cdec",
   "metadata": {},
   "outputs": [],
   "source": [
    "# Answer 3:-"
   ]
  },
  {
   "cell_type": "code",
   "execution_count": 4,
   "id": "4035ccd4-9e47-4f33-b052-5c10cf569702",
   "metadata": {},
   "outputs": [],
   "source": [
    "# The arithmetic error occurs when an error is encountered during numeric calculations in python.\n",
    "# This includes Zerodivision Error, Floating point error and overflow error."
   ]
  },
  {
   "cell_type": "code",
   "execution_count": 5,
   "id": "56884822-911e-42ff-a4ce-7f5bfcb3682d",
   "metadata": {},
   "outputs": [],
   "source": [
    "# zerodivision error :- ZeroDivision Error is raised when you divide a numeric value by zero. When\n",
    "# you divide a numeric value by zero. When we run this code, we will get a ZeroDivision error."
   ]
  },
  {
   "cell_type": "code",
   "execution_count": 6,
   "id": "e21d6cab-d25c-4553-90b5-a3980f88cfd1",
   "metadata": {},
   "outputs": [],
   "source": [
    "# for example :-"
   ]
  },
  {
   "cell_type": "code",
   "execution_count": 8,
   "id": "b4cbccbd-df4b-4d22-ac0e-e0aaeb08d333",
   "metadata": {},
   "outputs": [],
   "source": [
    "def zerodivisionerror(a,b):\n",
    "    return a/b"
   ]
  },
  {
   "cell_type": "code",
   "execution_count": 9,
   "id": "0af4eed0-22ba-4adf-aa6d-d48e874188c2",
   "metadata": {},
   "outputs": [
    {
     "ename": "ZeroDivisionError",
     "evalue": "division by zero",
     "output_type": "error",
     "traceback": [
      "\u001b[0;31m---------------------------------------------------------------------------\u001b[0m",
      "\u001b[0;31mZeroDivisionError\u001b[0m                         Traceback (most recent call last)",
      "Cell \u001b[0;32mIn[9], line 1\u001b[0m\n\u001b[0;32m----> 1\u001b[0m \u001b[43mzerodivisionerror\u001b[49m\u001b[43m(\u001b[49m\u001b[38;5;241;43m8\u001b[39;49m\u001b[43m,\u001b[49m\u001b[38;5;241;43m0\u001b[39;49m\u001b[43m)\u001b[49m\n",
      "Cell \u001b[0;32mIn[8], line 2\u001b[0m, in \u001b[0;36mzerodivisionerror\u001b[0;34m(a, b)\u001b[0m\n\u001b[1;32m      1\u001b[0m \u001b[38;5;28;01mdef\u001b[39;00m \u001b[38;5;21mzerodivisionerror\u001b[39m(a,b):\n\u001b[0;32m----> 2\u001b[0m     \u001b[38;5;28;01mreturn\u001b[39;00m \u001b[43ma\u001b[49m\u001b[38;5;241;43m/\u001b[39;49m\u001b[43mb\u001b[49m\n",
      "\u001b[0;31mZeroDivisionError\u001b[0m: division by zero"
     ]
    }
   ],
   "source": [
    "zerodivisionerror(8,0)"
   ]
  },
  {
   "cell_type": "code",
   "execution_count": 10,
   "id": "8b11c280-e0fe-4e2b-8ebf-4ac86fef4c84",
   "metadata": {},
   "outputs": [],
   "source": [
    "# we can solve this by using custom exception"
   ]
  },
  {
   "cell_type": "code",
   "execution_count": 11,
   "id": "8494e6c1-0877-4c80-ac03-8a877adceec1",
   "metadata": {},
   "outputs": [
    {
     "name": "stdout",
     "output_type": "stream",
     "text": [
      "division by zero\n"
     ]
    }
   ],
   "source": [
    "try:\n",
    "    zerodivisionerror(8,0)\n",
    "except ZeroDivisionError as e:\n",
    "    print(e)"
   ]
  },
  {
   "cell_type": "code",
   "execution_count": 12,
   "id": "a62ec714-e569-4953-9b68-0f8f94ca2878",
   "metadata": {},
   "outputs": [],
   "source": [
    "# floating point number :- floating point error is a problem caused when the internal representation\n",
    "# of floationg point numbers, which uses a fixed number of binary digits to represent a decimal number.\n",
    "# It is difficult to represent some decimal number in binary, so in many cases, it leads to small\n",
    "# roundoff errors. "
   ]
  },
  {
   "cell_type": "code",
   "execution_count": 13,
   "id": "bcf15890-f65b-4127-abbe-c42cd86618fd",
   "metadata": {},
   "outputs": [],
   "source": [
    "# for example :-"
   ]
  },
  {
   "cell_type": "code",
   "execution_count": 14,
   "id": "f08e13bd-a9c6-4ad1-a37b-6801245574eb",
   "metadata": {},
   "outputs": [],
   "source": [
    "def floating_point_error(a,b):\n",
    "    return a-b"
   ]
  },
  {
   "cell_type": "code",
   "execution_count": 16,
   "id": "4d4a58b2-8233-458d-9a95-10e047077ee3",
   "metadata": {},
   "outputs": [
    {
     "data": {
      "text/plain": [
       "0.3999999999999999"
      ]
     },
     "execution_count": 16,
     "metadata": {},
     "output_type": "execute_result"
    }
   ],
   "source": [
    "floating_point_error(1.4,1)"
   ]
  },
  {
   "cell_type": "code",
   "execution_count": 17,
   "id": "6ed8f9a3-c341-45d6-a4d4-6f6d713bbaaa",
   "metadata": {},
   "outputs": [],
   "source": [
    "# Q4. Why LookupError class is used? Explain with an example KeyError and IndexError"
   ]
  },
  {
   "cell_type": "code",
   "execution_count": 18,
   "id": "1e9a5051-9f79-4b95-bd26-e7496d7f1818",
   "metadata": {},
   "outputs": [],
   "source": [
    "# Answer 4:-"
   ]
  },
  {
   "cell_type": "code",
   "execution_count": 19,
   "id": "8b3888cd-9160-4644-95f1-3a9e4fea3456",
   "metadata": {},
   "outputs": [],
   "source": [
    "# LookupError Exception is the base class for error raised when something can't be found. The base \n",
    "# class for the exceptions that are raised when a key or index used on a mapping or sequence \n",
    "# reference is invalid: IndexError ,KeyError.\n",
    "# An IndexError is raised when a sequence reference is out of range."
   ]
  },
  {
   "cell_type": "code",
   "execution_count": 21,
   "id": "8e553b4a-9f03-400d-9570-8aead76accd7",
   "metadata": {},
   "outputs": [],
   "source": [
    "# for example :-"
   ]
  },
  {
   "cell_type": "code",
   "execution_count": 22,
   "id": "1f865c81-ec2d-4623-96c0-d620341d8672",
   "metadata": {},
   "outputs": [
    {
     "name": "stdout",
     "output_type": "stream",
     "text": [
      "list index out of range\n"
     ]
    }
   ],
   "source": [
    "try:\n",
    "    l=[1,2,3,4,5]\n",
    "    l[6]\n",
    "except IndexError as e:\n",
    "    print(e)"
   ]
  },
  {
   "cell_type": "code",
   "execution_count": 24,
   "id": "0ae431ef-bdf9-4859-b2eb-c8f0bdfc7b79",
   "metadata": {},
   "outputs": [],
   "source": [
    "# keyerror:- Keyerror is an exception that occurs when an attempts is made to access an item in a \n",
    "# dictionary that does not exist. The key used to access the item is not found in the dictionary,\n",
    "# which leads to the Keyerror."
   ]
  },
  {
   "cell_type": "code",
   "execution_count": 36,
   "id": "0c952c96-965d-4762-afb1-0f7d1d885f7e",
   "metadata": {},
   "outputs": [
    {
     "ename": "KeyError",
     "evalue": "2",
     "output_type": "error",
     "traceback": [
      "\u001b[0;31m---------------------------------------------------------------------------\u001b[0m",
      "\u001b[0;31mKeyError\u001b[0m                                  Traceback (most recent call last)",
      "Cell \u001b[0;32mIn[36], line 2\u001b[0m\n\u001b[1;32m      1\u001b[0m d\u001b[38;5;241m=\u001b[39m{\u001b[38;5;124m\"\u001b[39m\u001b[38;5;124mkey1\u001b[39m\u001b[38;5;124m\"\u001b[39m:\u001b[38;5;241m1\u001b[39m,\u001b[38;5;124m\"\u001b[39m\u001b[38;5;124mkey2\u001b[39m\u001b[38;5;124m\"\u001b[39m:\u001b[38;5;241m2\u001b[39m,\u001b[38;5;124m\"\u001b[39m\u001b[38;5;124mkey3\u001b[39m\u001b[38;5;124m\"\u001b[39m:\u001b[38;5;241m3\u001b[39m}\n\u001b[0;32m----> 2\u001b[0m \u001b[38;5;28mprint\u001b[39m(\u001b[43md\u001b[49m\u001b[43m[\u001b[49m\u001b[38;5;241;43m2\u001b[39;49m\u001b[43m]\u001b[49m)\n",
      "\u001b[0;31mKeyError\u001b[0m: 2"
     ]
    }
   ],
   "source": [
    "d={\"key1\":1,\"key2\":2,\"key3\":3}\n",
    "print(d[2])"
   ]
  },
  {
   "cell_type": "code",
   "execution_count": 34,
   "id": "caced31d-186b-41e5-affa-e1dedd0d1844",
   "metadata": {},
   "outputs": [
    {
     "name": "stdout",
     "output_type": "stream",
     "text": [
      "key is not found\n"
     ]
    }
   ],
   "source": [
    "try:\n",
    "    d={\"key1\":1,\"key2\":2,\"key3\":3}\n",
    "    print(d[2])\n",
    "except KeyError as e:\n",
    "    print(\"key is not found\")"
   ]
  },
  {
   "cell_type": "code",
   "execution_count": 37,
   "id": "d20342f2-d137-424f-883a-9cfbfefdeb34",
   "metadata": {},
   "outputs": [],
   "source": [
    "# Q5. Explain ImportError. What is ModuleNotFoundError?"
   ]
  },
  {
   "cell_type": "code",
   "execution_count": 38,
   "id": "98203fd4-fb5f-45d1-a64b-323ad78f9377",
   "metadata": {},
   "outputs": [],
   "source": [
    "# Answer 5:-"
   ]
  },
  {
   "cell_type": "code",
   "execution_count": 40,
   "id": "75787310-c96e-4731-9a0a-5e32bc75abf6",
   "metadata": {},
   "outputs": [],
   "source": [
    "# ImportError occurs when the python program tries to import module which does not exist in the private\n",
    "# table. This exception can be avoided using exception handling using try and except blocks. "
   ]
  },
  {
   "cell_type": "code",
   "execution_count": 42,
   "id": "98793185-3862-4fd9-8df9-9796d097d206",
   "metadata": {},
   "outputs": [
    {
     "name": "stdout",
     "output_type": "stream",
     "text": [
      "No module named 'hello'\n"
     ]
    }
   ],
   "source": [
    "try:\n",
    "    import hello\n",
    "except ImportError as e:\n",
    "    print(e)"
   ]
  },
  {
   "cell_type": "code",
   "execution_count": 41,
   "id": "a3738ed6-532a-443e-9c03-527637c65565",
   "metadata": {},
   "outputs": [],
   "source": [
    "# ModuleNotFoundError :- When we import a module into your code , the python interpreter encounters \n",
    "# this error because it cannot locate the module "
   ]
  },
  {
   "cell_type": "code",
   "execution_count": 43,
   "id": "4a2eeb79-d5dc-40ea-861e-cf245657d435",
   "metadata": {},
   "outputs": [
    {
     "name": "stdout",
     "output_type": "stream",
     "text": [
      "[Errno 2] No such file or directory: 'hello6.txt'\n"
     ]
    }
   ],
   "source": [
    "try:\n",
    "    with open(\"hello6.txt\",'r') as f:\n",
    "        test=f.read()\n",
    "except Exception as e:\n",
    "    print(e)\n",
    "except FileNotFoundError as e:\n",
    "    print(\"test\",e)"
   ]
  },
  {
   "cell_type": "code",
   "execution_count": 44,
   "id": "0ea6b0ef-2fc9-477d-b393-b38a153a71b7",
   "metadata": {},
   "outputs": [],
   "source": [
    "# Q6. List down some best practices for exception handling in python."
   ]
  },
  {
   "cell_type": "code",
   "execution_count": null,
   "id": "d9790fe2-8b67-44a3-b089-508478cb72c1",
   "metadata": {},
   "outputs": [],
   "source": [
    "# use always a specific exception\n",
    "# print always a proper message\n",
    "#always try to og your error\n",
    "#always avoid to write a multiple  exception  handling\n",
    "#Document all the error\n",
    "#cleanup all the resources"
   ]
  }
 ],
 "metadata": {
  "kernelspec": {
   "display_name": "Python 3 (ipykernel)",
   "language": "python",
   "name": "python3"
  },
  "language_info": {
   "codemirror_mode": {
    "name": "ipython",
    "version": 3
   },
   "file_extension": ".py",
   "mimetype": "text/x-python",
   "name": "python",
   "nbconvert_exporter": "python",
   "pygments_lexer": "ipython3",
   "version": "3.10.8"
  }
 },
 "nbformat": 4,
 "nbformat_minor": 5
}
